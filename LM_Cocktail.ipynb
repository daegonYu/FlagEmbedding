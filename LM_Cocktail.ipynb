{
 "cells": [
  {
   "cell_type": "code",
   "execution_count": null,
   "id": "d2e6aedb",
   "metadata": {},
   "outputs": [],
   "source": [
    "from LM_Cocktail import mix_models, mix_models_with_data\n"
   ]
  },
  {
   "cell_type": "code",
   "execution_count": 2,
   "id": "2c9445bc",
   "metadata": {},
   "outputs": [
    {
     "name": "stdout",
     "output_type": "stream",
     "text": [
      "loading BAAI/bge-m3 -----------------\n"
     ]
    },
    {
     "name": "stdout",
     "output_type": "stream",
     "text": [
      "loading Snowflake/snowflake-arctic-embed-l-v2.0 -----------------\n",
      "***weight for each model***: \n",
      "BAAI/bge-m3 0.5\n",
      "Snowflake/snowflake-arctic-embed-l-v2.0 0.5\n",
      "Saving the new model to ./models/BGE_M3_Snowflake_Arctic_Embedder_v1\n",
      "Transform the model to the format of 'sentence_transformers' (pooling_method='cls', normalized=True)\n"
     ]
    }
   ],
   "source": [
    "model = mix_models(\n",
    "    model_names_or_paths=[\"BAAI/bge-m3\", \"Snowflake/snowflake-arctic-embed-l-v2.0\"], \n",
    "    model_type='encoder', \n",
    "    weights=[0.5, 0.5],\n",
    "    output_path='./models/BGE_M3_Snowflake_Arctic_Embedder_v1')\n"
   ]
  },
  {
   "cell_type": "code",
   "execution_count": 3,
   "id": "ae6a2a3b",
   "metadata": {},
   "outputs": [
    {
     "name": "stdout",
     "output_type": "stream",
     "text": [
      "loading BAAI/bge-m3 -----------------\n",
      "loading Snowflake/snowflake-arctic-embed-l-v2.0 -----------------\n",
      "***weight for each model***: \n",
      "BAAI/bge-m3 0.7\n",
      "Snowflake/snowflake-arctic-embed-l-v2.0 0.3\n",
      "Saving the new model to ./models/BGE_M3_Snowflake_Arctic_Embedder_v2\n",
      "Transform the model to the format of 'sentence_transformers' (pooling_method='cls', normalized=True)\n"
     ]
    }
   ],
   "source": [
    "model = mix_models(\n",
    "    model_names_or_paths=[\"BAAI/bge-m3\", \"Snowflake/snowflake-arctic-embed-l-v2.0\"], \n",
    "    model_type='encoder', \n",
    "    weights=[0.7, 0.3],\n",
    "    output_path='./models/BGE_M3_Snowflake_Arctic_Embedder_v2')\n"
   ]
  },
  {
   "cell_type": "code",
   "execution_count": 4,
   "id": "177329b6",
   "metadata": {},
   "outputs": [
    {
     "name": "stdout",
     "output_type": "stream",
     "text": [
      "loading BAAI/bge-m3 -----------------\n",
      "loading Snowflake/snowflake-arctic-embed-l-v2.0 -----------------\n",
      "***weight for each model***: \n",
      "BAAI/bge-m3 0.3\n",
      "Snowflake/snowflake-arctic-embed-l-v2.0 0.7\n",
      "Saving the new model to ./models/BGE_M3_Snowflake_Arctic_Embedder_v3\n",
      "Transform the model to the format of 'sentence_transformers' (pooling_method='cls', normalized=True)\n"
     ]
    }
   ],
   "source": [
    "model = mix_models(\n",
    "    model_names_or_paths=[\"BAAI/bge-m3\", \"Snowflake/snowflake-arctic-embed-l-v2.0\"], \n",
    "    model_type='encoder', \n",
    "    weights=[0.3, 0.7],\n",
    "    output_path='./models/BGE_M3_Snowflake_Arctic_Embedder_v3')\n"
   ]
  },
  {
   "cell_type": "code",
   "execution_count": 5,
   "id": "54772f04",
   "metadata": {},
   "outputs": [
    {
     "name": "stdout",
     "output_type": "stream",
     "text": [
      "loading nlpai-lab/KURE-v1 -----------------\n"
     ]
    },
    {
     "data": {
      "application/vnd.jupyter.widget-view+json": {
       "model_id": "a3c372b2ed0b44dc999315cb88c0604d",
       "version_major": 2,
       "version_minor": 0
      },
      "text/plain": [
       "config.json:   0%|          | 0.00/807 [00:00<?, ?B/s]"
      ]
     },
     "metadata": {},
     "output_type": "display_data"
    },
    {
     "data": {
      "application/vnd.jupyter.widget-view+json": {
       "model_id": "f4c914459af74f8ea67326e3f97b4f1c",
       "version_major": 2,
       "version_minor": 0
      },
      "text/plain": [
       "model.safetensors:   0%|          | 0.00/2.27G [00:00<?, ?B/s]"
      ]
     },
     "metadata": {},
     "output_type": "display_data"
    },
    {
     "name": "stdout",
     "output_type": "stream",
     "text": [
      "loading dragonkue/BGE-m3-ko -----------------\n"
     ]
    },
    {
     "data": {
      "application/vnd.jupyter.widget-view+json": {
       "model_id": "b0d720e56f4a42fa905f382213283892",
       "version_major": 2,
       "version_minor": 0
      },
      "text/plain": [
       "config.json:   0%|          | 0.00/698 [00:00<?, ?B/s]"
      ]
     },
     "metadata": {},
     "output_type": "display_data"
    },
    {
     "data": {
      "application/vnd.jupyter.widget-view+json": {
       "model_id": "6995c22e22dc49d785b1249a02fb0391",
       "version_major": 2,
       "version_minor": 0
      },
      "text/plain": [
       "model.safetensors:   0%|          | 0.00/2.27G [00:00<?, ?B/s]"
      ]
     },
     "metadata": {},
     "output_type": "display_data"
    },
    {
     "name": "stdout",
     "output_type": "stream",
     "text": [
      "***weight for each model***: \n",
      "nlpai-lab/KURE-v1 0.3\n",
      "dragonkue/BGE-m3-ko 0.7\n",
      "Saving the new model to ./models/BGE_M3_merge_v1\n"
     ]
    },
    {
     "data": {
      "application/vnd.jupyter.widget-view+json": {
       "model_id": "969b6c21470e4516b3595d74088538a0",
       "version_major": 2,
       "version_minor": 0
      },
      "text/plain": [
       "tokenizer_config.json:   0%|          | 0.00/1.20k [00:00<?, ?B/s]"
      ]
     },
     "metadata": {},
     "output_type": "display_data"
    },
    {
     "data": {
      "application/vnd.jupyter.widget-view+json": {
       "model_id": "789a7dd7ca734116a3064a77e7234f04",
       "version_major": 2,
       "version_minor": 0
      },
      "text/plain": [
       "tokenizer.json:   0%|          | 0.00/17.1M [00:00<?, ?B/s]"
      ]
     },
     "metadata": {},
     "output_type": "display_data"
    },
    {
     "data": {
      "application/vnd.jupyter.widget-view+json": {
       "model_id": "6b9b7e7fa42f49fcbbba2c8b1ce4130d",
       "version_major": 2,
       "version_minor": 0
      },
      "text/plain": [
       "special_tokens_map.json:   0%|          | 0.00/964 [00:00<?, ?B/s]"
      ]
     },
     "metadata": {},
     "output_type": "display_data"
    },
    {
     "name": "stdout",
     "output_type": "stream",
     "text": [
      "Transform the model to the format of 'sentence_transformers' (pooling_method='cls', normalized=True)\n"
     ]
    }
   ],
   "source": [
    "model = mix_models(\n",
    "    model_names_or_paths=[\"nlpai-lab/KURE-v1\", \"dragonkue/BGE-m3-ko\"], \n",
    "    model_type='encoder', \n",
    "    weights=[0.3, 0.7],\n",
    "    output_path='./models/BGE_M3_merge_v1')\n"
   ]
  },
  {
   "cell_type": "code",
   "execution_count": 6,
   "id": "59b4d887",
   "metadata": {},
   "outputs": [
    {
     "name": "stdout",
     "output_type": "stream",
     "text": [
      "loading nlpai-lab/KURE-v1 -----------------\n",
      "loading dragonkue/BGE-m3-ko -----------------\n",
      "***weight for each model***: \n",
      "nlpai-lab/KURE-v1 0.5\n",
      "dragonkue/BGE-m3-ko 0.5\n",
      "Saving the new model to ./models/BGE_M3_merge_v2\n",
      "Transform the model to the format of 'sentence_transformers' (pooling_method='cls', normalized=True)\n"
     ]
    }
   ],
   "source": [
    "model = mix_models(\n",
    "    model_names_or_paths=[\"nlpai-lab/KURE-v1\", \"dragonkue/BGE-m3-ko\"], \n",
    "    model_type='encoder', \n",
    "    weights=[0.5, 0.5],\n",
    "    output_path='./models/BGE_M3_merge_v2')\n"
   ]
  },
  {
   "cell_type": "code",
   "execution_count": 7,
   "id": "737c663c",
   "metadata": {},
   "outputs": [
    {
     "name": "stdout",
     "output_type": "stream",
     "text": [
      "loading nlpai-lab/KURE-v1 -----------------\n",
      "loading dragonkue/BGE-m3-ko -----------------\n",
      "***weight for each model***: \n",
      "nlpai-lab/KURE-v1 0.7\n",
      "dragonkue/BGE-m3-ko 0.3\n",
      "Saving the new model to ./models/BGE_M3_merge_v3\n",
      "Transform the model to the format of 'sentence_transformers' (pooling_method='cls', normalized=True)\n"
     ]
    }
   ],
   "source": [
    "model = mix_models(\n",
    "    model_names_or_paths=[\"nlpai-lab/KURE-v1\", \"dragonkue/BGE-m3-ko\"], \n",
    "    model_type='encoder', \n",
    "    weights=[0.7, 0.3],\n",
    "    output_path='./models/BGE_M3_merge_v3')\n"
   ]
  },
  {
   "cell_type": "code",
   "execution_count": null,
   "id": "8436de13",
   "metadata": {},
   "outputs": [],
   "source": []
  }
 ],
 "metadata": {
  "kernelspec": {
   "display_name": "Python 3 (ipykernel)",
   "language": "python",
   "name": "python3"
  },
  "language_info": {
   "codemirror_mode": {
    "name": "ipython",
    "version": 3
   },
   "file_extension": ".py",
   "mimetype": "text/x-python",
   "name": "python",
   "nbconvert_exporter": "python",
   "pygments_lexer": "ipython3",
   "version": "3.12.3"
  }
 },
 "nbformat": 4,
 "nbformat_minor": 5
}
